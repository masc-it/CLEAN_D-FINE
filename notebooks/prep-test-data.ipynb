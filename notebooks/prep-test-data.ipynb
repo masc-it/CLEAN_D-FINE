{
 "cells": [
  {
   "cell_type": "code",
   "execution_count": null,
   "metadata": {},
   "outputs": [],
   "source": [
    "import pandas as pd\n",
    "from datasets import Dataset\n",
    "from PIL import Image\n",
    "from io import BytesIO\n",
    "import json\n",
    "import base64"
   ]
  },
  {
   "cell_type": "code",
   "execution_count": null,
   "metadata": {},
   "outputs": [],
   "source": [
    "Image.open(BytesIO(base64.b64decode(data['img'])))"
   ]
  },
  {
   "cell_type": "code",
   "execution_count": null,
   "metadata": {},
   "outputs": [],
   "source": [
    "df = pd.read_parquet(\"/Users/mascit/datasets/pango/static_sources/db_local_pango.parquet\")"
   ]
  },
  {
   "cell_type": "code",
   "execution_count": null,
   "metadata": {},
   "outputs": [],
   "source": [
    "df"
   ]
  },
  {
   "cell_type": "code",
   "execution_count": null,
   "metadata": {},
   "outputs": [],
   "source": [
    "label_to_idx = {l: i for i, l in enumerate([\"title\",\"paragraph\", \"figure\", \"list\", \"table\"])}\n",
    "label_to_idx"
   ]
  },
  {
   "cell_type": "code",
   "execution_count": null,
   "metadata": {},
   "outputs": [],
   "source": [
    "boxes = df[\"data\"].apply(lambda x: json.loads(x)).tolist()\n",
    "boxes = [\n",
    "    [\n",
    "        {\n",
    "            \"xmin\": box[\"x\"],\n",
    "            \"ymin\": box[\"y\"],\n",
    "            \"xmax\": box[\"x\"] + box[\"w\"],\n",
    "            \"ymax\": box[\"y\"] + box[\"h\"],\n",
    "            \"label\": box[\"label\"],\n",
    "            \"label_idx\": label_to_idx[box[\"label\"]]\n",
    "        }\n",
    "        for box in boxes_\n",
    "    ]\n",
    "    for boxes_ in boxes\n",
    "]\n",
    "images = df[\"img\"].apply(lambda x: base64.b64decode(x.split(\",\")[1]))"
   ]
  },
  {
   "cell_type": "code",
   "execution_count": null,
   "metadata": {},
   "outputs": [],
   "source": [
    "ds = Dataset.from_pandas(pd.DataFrame(zip(images, boxes), columns=[\"image\", \"target\"]))\n",
    "ds.save_to_disk(\"../data/dataset-test\")"
   ]
  },
  {
   "cell_type": "code",
   "execution_count": null,
   "metadata": {},
   "outputs": [],
   "source": [
    "ds[0]"
   ]
  },
  {
   "cell_type": "code",
   "execution_count": null,
   "metadata": {},
   "outputs": [],
   "source": [
    "len(ds)"
   ]
  },
  {
   "cell_type": "code",
   "execution_count": 1,
   "metadata": {},
   "outputs": [],
   "source": [
    "import torch"
   ]
  },
  {
   "cell_type": "code",
   "execution_count": 6,
   "metadata": {},
   "outputs": [],
   "source": [
    "x = torch.tensor([[1,2], [200,200]])"
   ]
  },
  {
   "cell_type": "code",
   "execution_count": 7,
   "metadata": {},
   "outputs": [
    {
     "data": {
      "text/plain": [
       "tensor([[  1,   2,   1,   2],\n",
       "        [200, 200, 200, 200]])"
      ]
     },
     "execution_count": 7,
     "metadata": {},
     "output_type": "execute_result"
    }
   ],
   "source": [
    "x.repeat(1,2)"
   ]
  },
  {
   "cell_type": "code",
   "execution_count": 8,
   "metadata": {},
   "outputs": [
    {
     "data": {
      "text/plain": [
       "tensor([[512, 512],\n",
       "        [512, 512],\n",
       "        [512, 512],\n",
       "        [512, 512],\n",
       "        [512, 512],\n",
       "        [512, 512],\n",
       "        [512, 512],\n",
       "        [512, 512],\n",
       "        [512, 512],\n",
       "        [512, 512]])"
      ]
     },
     "execution_count": 8,
     "metadata": {},
     "output_type": "execute_result"
    }
   ],
   "source": [
    "torch.tensor([[512,512]]*10)"
   ]
  }
 ],
 "metadata": {
  "kernelspec": {
   "display_name": ".venv",
   "language": "python",
   "name": "python3"
  },
  "language_info": {
   "codemirror_mode": {
    "name": "ipython",
    "version": 3
   },
   "file_extension": ".py",
   "mimetype": "text/x-python",
   "name": "python",
   "nbconvert_exporter": "python",
   "pygments_lexer": "ipython3",
   "version": "3.10.15"
  }
 },
 "nbformat": 4,
 "nbformat_minor": 2
}
