{
 "cells": [
  {
   "cell_type": "code",
   "execution_count": null,
   "metadata": {},
   "outputs": [],
   "source": [
    "%load_ext autoreload\n",
    "%autoreload 2"
   ]
  },
  {
   "cell_type": "code",
   "execution_count": null,
   "metadata": {},
   "outputs": [],
   "source": [
    "from pathlib import Path\n",
    "from clean_dfine import get_data_dir\n",
    "from clean_dfine.dataset import BatchImageCollateFunction, DataLoader, HFImageDataset\n",
    "from torchvision.transforms import ToPILImage\n",
    "\n",
    "from PIL import Image, ImageDraw, ImageFont\n",
    "import torch\n",
    "from typing import List, Tuple, Union\n",
    "\n",
    "def draw_bounding_boxes_on_image(\n",
    "    image: Image.Image,\n",
    "    boxes: Union[torch.Tensor, List[Tuple[float, float, float, float]]],\n",
    "    colors: Union[str, List[str], List[Tuple[int, int, int]]] = 'red',\n",
    "    width: int = 2,\n",
    "    labels: Union[List[str], None] = None,\n",
    "    font: Union[ImageFont.ImageFont, None] = None\n",
    ") -> Image.Image:\n",
    "    \"\"\"\n",
    "    Draws bounding boxes on a PIL image.\n",
    "\n",
    "    Args:\n",
    "        image (PIL.Image.Image): The input image.\n",
    "        boxes (torch.Tensor or List of Tuples): Bounding boxes in [x_min, y_min, x_max, y_max] format.\n",
    "            If torch.Tensor, shape should be (N, 4).\n",
    "        colors (str or list of str or list of tuples, optional): Colors for the boxes.\n",
    "            Can be a single color for all boxes or a list of colors for each box.\n",
    "            Default is 'red'.\n",
    "        width (int, optional): Line width for the bounding boxes. Default is 2.\n",
    "        labels (List[str], optional): Optional labels for each bounding box. Default is None.\n",
    "        font (PIL.ImageFont.ImageFont, optional): Font for the labels. If None, default font is used.\n",
    "\n",
    "    Returns:\n",
    "        PIL.Image.Image: Image with bounding boxes drawn.\n",
    "    \"\"\"\n",
    "    # Make a copy of the image to draw on\n",
    "    image_with_boxes = image.copy()\n",
    "    draw = ImageDraw.Draw(image_with_boxes)\n",
    "\n",
    "    # If boxes are torch.Tensor, convert to list\n",
    "    if isinstance(boxes, torch.Tensor):\n",
    "        boxes = boxes.tolist()\n",
    "    elif not isinstance(boxes, list):\n",
    "        raise TypeError(\"boxes should be a torch.Tensor or a list of tuples/lists.\")\n",
    "\n",
    "    # Handle colors\n",
    "    if isinstance(colors, str):\n",
    "        colors = [colors] * len(boxes)\n",
    "    elif isinstance(colors, (list, tuple)):\n",
    "        if len(colors) == 1:\n",
    "            colors = colors * len(boxes)\n",
    "        elif len(colors) != len(boxes):\n",
    "            raise ValueError(\"Number of colors must match number of boxes or be 1.\")\n",
    "\n",
    "    # Handle labels\n",
    "    if labels is not None:\n",
    "        if len(labels) != len(boxes):\n",
    "            raise ValueError(\"Number of labels must match number of boxes.\")\n",
    "    else:\n",
    "        labels = [None] * len(boxes)\n",
    "\n",
    "    # Draw each box\n",
    "    for idx, box in enumerate(boxes):\n",
    "        if len(box) != 4:\n",
    "            raise ValueError(f\"Box at index {idx} does not have 4 elements.\")\n",
    "\n",
    "        x_min, y_min, x_max, y_max = box\n",
    "        color = colors[idx] if isinstance(colors, list) else colors\n",
    "\n",
    "        # Draw rectangle\n",
    "        draw.rectangle([(x_min, y_min), (x_max, y_max)], outline=color, width=width)\n",
    "\n",
    "        # Draw label if provided\n",
    "        if labels[idx]:\n",
    "            if font is None:\n",
    "                font = ImageFont.load_default()\n",
    "            text_size = draw.textbbox((0,0), labels[idx], font=font)\n",
    "            text_background = [x_min, y_min - text_size[1], x_min + text_size[0], y_min]\n",
    "            draw.rectangle(text_background, fill=color)\n",
    "            draw.text((x_min, y_min - text_size[1]), labels[idx], fill='black', font=font)\n",
    "\n",
    "    return image_with_boxes\n",
    "\n",
    "\n",
    "dataset_train = HFImageDataset.from_path(get_data_dir() / \"dataset-test\", 640)\n",
    "dataloader_train = DataLoader(\n",
    "\tdataset_train,\n",
    "\tbatch_size=1,\n",
    "\tshuffle=True,\n",
    "\tnum_workers=2,\n",
    "\tpersistent_workers=True,\n",
    "\tcollate_fn=BatchImageCollateFunction(),\n",
    ")"
   ]
  },
  {
   "cell_type": "code",
   "execution_count": null,
   "metadata": {},
   "outputs": [],
   "source": [
    "img, target = next(iter(dataloader_train))\n",
    "img = img.squeeze(0)"
   ]
  },
  {
   "cell_type": "code",
   "execution_count": null,
   "metadata": {},
   "outputs": [],
   "source": [
    "t = ToPILImage()\n",
    "img = t(img)"
   ]
  },
  {
   "cell_type": "code",
   "execution_count": null,
   "metadata": {},
   "outputs": [],
   "source": [
    "boxes = (target[0][\"boxes\"] * 640).tolist()\n",
    "boxes = [[box[0], box[1], box[0]+box[2]//2, box[1]+box[3]//2] for box in boxes]\n",
    "boxes"
   ]
  },
  {
   "cell_type": "code",
   "execution_count": null,
   "metadata": {},
   "outputs": [],
   "source": [
    "draw_bounding_boxes_on_image(\n",
    "    img,\n",
    "    boxes,\n",
    "    labels=[str(i) for i in target[0][\"labels\"]],\n",
    ")"
   ]
  },
  {
   "cell_type": "code",
   "execution_count": null,
   "metadata": {},
   "outputs": [],
   "source": [
    "for (img, target) in dataloader_train:\n",
    "\t\n",
    "    print(img.shape)\n",
    "    print(target)\n",
    "    break"
   ]
  },
  {
   "cell_type": "code",
   "execution_count": null,
   "metadata": {},
   "outputs": [],
   "source": []
  }
 ],
 "metadata": {
  "kernelspec": {
   "display_name": ".venv",
   "language": "python",
   "name": "python3"
  },
  "language_info": {
   "codemirror_mode": {
    "name": "ipython",
    "version": 3
   },
   "file_extension": ".py",
   "mimetype": "text/x-python",
   "name": "python",
   "nbconvert_exporter": "python",
   "pygments_lexer": "ipython3",
   "version": "3.10.15"
  }
 },
 "nbformat": 4,
 "nbformat_minor": 2
}
